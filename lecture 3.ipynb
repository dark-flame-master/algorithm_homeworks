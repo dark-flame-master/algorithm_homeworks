{
 "cells": [
  {
   "cell_type": "markdown",
   "metadata": {},
   "source": [
    "# Divide and conquer\n",
    "\n",
    "1. Divide the problem(instances) into one or more subproblems\n",
    "2. Conquer each subproblem recursively\n",
    "3. Combine solutions\n",
    "\n",
    "\n"
   ]
  },
  {
   "cell_type": "markdown",
   "metadata": {},
   "source": [
    "## Merge Sort\n",
    "\n",
    "1. Divide array into two halves\n",
    "2. Conquer recurisively each subarray\n",
    "3. Combine(linear time) the solution  (merge)\n",
    "\n",
    "### Running time:\n",
    "\n",
    "$T(n)=2T(\\frac{n}{2})+\\Theta (n) = \\Theta (nlg(n))$\n",
    "\n",
    "$\\frac{n}{2}$: size of subproblems"
   ]
  },
  {
   "cell_type": "markdown",
   "metadata": {},
   "source": [
    "## Binary Search"
   ]
  },
  {
   "cell_type": "code",
   "execution_count": null,
   "metadata": {},
   "outputs": [],
   "source": []
  }
 ],
 "metadata": {
  "kernelspec": {
   "display_name": "Python 3",
   "language": "python",
   "name": "python3"
  },
  "language_info": {
   "codemirror_mode": {
    "name": "ipython",
    "version": 3
   },
   "file_extension": ".py",
   "mimetype": "text/x-python",
   "name": "python",
   "nbconvert_exporter": "python",
   "pygments_lexer": "ipython3",
   "version": "3.6.4"
  }
 },
 "nbformat": 4,
 "nbformat_minor": 2
}
