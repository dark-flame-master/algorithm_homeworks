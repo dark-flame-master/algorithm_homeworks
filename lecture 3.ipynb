{
 "cells": [
  {
   "cell_type": "markdown",
   "metadata": {},
   "source": [
    "# Divide and conquer\n",
    "\n",
    "1. Divide the problem(instances) into one or more subproblems\n",
    "2. Conquer each subproblem recursively\n",
    "3. Combine solutions\n",
    "\n",
    "\n"
   ]
  },
  {
   "cell_type": "markdown",
   "metadata": {},
   "source": [
    "## Merge Sort\n",
    "\n",
    "1. Divide array into two halves\n",
    "2. Conquer recurisively each subarray\n",
    "3. Combine(linear time) the solution  (merge)\n",
    "\n",
    "### Running time:\n",
    "\n",
    "$T(n)=2T(\\frac{n}{2})+\\Theta (n) = \\Theta (nlg(n))$\n",
    "\n",
    "$\\frac{n}{2}$: size of subproblems"
   ]
  },
  {
   "cell_type": "markdown",
   "metadata": {},
   "source": [
    "## Binary Search\n",
    "\n",
    "(find $x$ in a sorted array)\n",
    "\n",
    "1. Divide: compare $x$ with middle\n",
    "2. Conquer: recurse in one subarray\n",
    "3. Combine: terminal"
   ]
  },
  {
   "cell_type": "code",
   "execution_count": 8,
   "metadata": {},
   "outputs": [
    {
     "name": "stdout",
     "output_type": "stream",
     "text": [
      "1\n"
     ]
    }
   ],
   "source": [
    "t0 = [1,3,4,5,6,7,10,11,23]\n",
    "t1 = [-1,22,102,201,218,999]\n",
    "\n",
    "def binary_search(array_test, x, start, end):\n",
    "    length = end - start\n",
    "    if length == 0:\n",
    "        return False\n",
    "    elif length == 1:\n",
    "        if array_test[start] == x:\n",
    "            return start\n",
    "        else:\n",
    "            return False\n",
    "    else:\n",
    "        middle = (start+end)//2\n",
    "        if array_test[middle] == x:\n",
    "            return middle\n",
    "        else:\n",
    "            r0 = binary_search(array_test, x, start, middle)\n",
    "            r1 = binary_search(array_test, x, middle+1, end)\n",
    "            if r0 != False:\n",
    "                return r0\n",
    "            if r1 != False:\n",
    "                return r1\n",
    "            return False\n",
    "\n",
    "print(binary_search(t0,3,0,len(t0)))\n",
    "    "
   ]
  },
  {
   "cell_type": "code",
   "execution_count": null,
   "metadata": {},
   "outputs": [],
   "source": []
  }
 ],
 "metadata": {
  "kernelspec": {
   "display_name": "Python 3",
   "language": "python",
   "name": "python3"
  },
  "language_info": {
   "codemirror_mode": {
    "name": "ipython",
    "version": 3
   },
   "file_extension": ".py",
   "mimetype": "text/x-python",
   "name": "python",
   "nbconvert_exporter": "python",
   "pygments_lexer": "ipython3",
   "version": "3.6.4"
  }
 },
 "nbformat": 4,
 "nbformat_minor": 2
}
