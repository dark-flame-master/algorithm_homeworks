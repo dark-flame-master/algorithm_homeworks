{
 "cells": [
  {
   "cell_type": "markdown",
   "metadata": {},
   "source": [
    "# Divide and conquer\n",
    "\n",
    "1. Divide the problem(instances) into one or more subproblems\n",
    "2. Conquer each subproblem recursively\n",
    "3. Combine solutions\n",
    "\n",
    "\n"
   ]
  },
  {
   "cell_type": "markdown",
   "metadata": {},
   "source": [
    "## Merge Sort\n",
    "\n",
    "1. Divide array into two halves\n",
    "2. Conquer recurisively each subarray\n",
    "3. Combine(linear time) the solution  (merge)\n",
    "\n",
    "### Running time:\n",
    "\n",
    "$T(n)=2T(\\frac{n}{2})+\\Theta (n) = \\Theta (nlg(n))$\n",
    "\n",
    "$\\frac{n}{2}$: size of subproblems"
   ]
  },
  {
   "cell_type": "markdown",
   "metadata": {},
   "source": [
    "## Binary Search"
   ]
  },
  {
   "cell_type": "code",
   "execution_count": 16,
   "metadata": {},
   "outputs": [
    {
     "name": "stdout",
     "output_type": "stream",
     "text": [
      "hello\n"
     ]
    }
   ],
   "source": [
    "#import test mod\n",
    "%run lib/test.py\n",
    "test_print()"
   ]
  },
  {
   "cell_type": "code",
   "execution_count": 9,
   "metadata": {},
   "outputs": [
    {
     "name": "stdout",
     "output_type": "stream",
     "text": [
      "hello\n"
     ]
    }
   ],
   "source": [
    "test_print()"
   ]
  },
  {
   "cell_type": "code",
   "execution_count": 17,
   "metadata": {},
   "outputs": [
    {
     "data": {
      "text/plain": [
       "[42,\n",
       " 32,\n",
       " 64,\n",
       " 58,\n",
       " 52,\n",
       " 25,\n",
       " 22,\n",
       " 93,\n",
       " 68,\n",
       " 90,\n",
       " 51,\n",
       " 21,\n",
       " 94,\n",
       " 89,\n",
       " 87,\n",
       " 27,\n",
       " 16,\n",
       " 12,\n",
       " 94,\n",
       " 60,\n",
       " 7,\n",
       " 0,\n",
       " 27,\n",
       " 2,\n",
       " 35,\n",
       " 31,\n",
       " 24,\n",
       " 2,\n",
       " 68,\n",
       " 76,\n",
       " 70,\n",
       " 61,\n",
       " 66,\n",
       " 97,\n",
       " 17,\n",
       " 91,\n",
       " 46,\n",
       " 6,\n",
       " 28,\n",
       " 22,\n",
       " 83,\n",
       " 68,\n",
       " 25,\n",
       " 38,\n",
       " 23,\n",
       " 86,\n",
       " 18,\n",
       " 6,\n",
       " 82,\n",
       " 38,\n",
       " 87,\n",
       " 91,\n",
       " 28,\n",
       " 95,\n",
       " 12,\n",
       " 30,\n",
       " 33,\n",
       " 62,\n",
       " 13,\n",
       " 83,\n",
       " 10,\n",
       " 76,\n",
       " 19,\n",
       " 53,\n",
       " 94,\n",
       " 81,\n",
       " 2,\n",
       " 66,\n",
       " 81,\n",
       " 89,\n",
       " 90,\n",
       " 10,\n",
       " 19,\n",
       " 66,\n",
       " 8,\n",
       " 68,\n",
       " 83,\n",
       " 31,\n",
       " 42,\n",
       " 9,\n",
       " 93,\n",
       " 49,\n",
       " 39,\n",
       " 64,\n",
       " 85,\n",
       " 25,\n",
       " 49,\n",
       " 93,\n",
       " 91,\n",
       " 40,\n",
       " 84,\n",
       " 19,\n",
       " 90,\n",
       " 27,\n",
       " 24,\n",
       " 25,\n",
       " 44,\n",
       " 89,\n",
       " 58,\n",
       " 20]"
      ]
     },
     "execution_count": 17,
     "metadata": {},
     "output_type": "execute_result"
    }
   ],
   "source": [
    "test_get_array()"
   ]
  },
  {
   "cell_type": "code",
   "execution_count": null,
   "metadata": {},
   "outputs": [],
   "source": []
  }
 ],
 "metadata": {
  "kernelspec": {
   "display_name": "Python 3",
   "language": "python",
   "name": "python3"
  },
  "language_info": {
   "codemirror_mode": {
    "name": "ipython",
    "version": 3
   },
   "file_extension": ".py",
   "mimetype": "text/x-python",
   "name": "python",
   "nbconvert_exporter": "python",
   "pygments_lexer": "ipython3",
   "version": "3.7.0"
  }
 },
 "nbformat": 4,
 "nbformat_minor": 2
}
