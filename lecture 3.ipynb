{
 "cells": [
  {
   "cell_type": "markdown",
   "metadata": {},
   "source": [
    "# Divide and conquer\n",
    "\n",
    "1. Divide the problem(instances) into one or more subproblems\n",
    "2. Conquer each subproblem recursively\n",
    "3. Combine solutions\n",
    "\n",
    "\n"
   ]
  },
  {
   "cell_type": "markdown",
   "metadata": {},
   "source": [
    "## Merge Sort\n",
    "\n",
    "1. Divide array into two halves\n",
    "2. Conquer recurisively each subarray\n",
    "3. Combine(linear time) the solution  (merge)\n",
    "\n",
    "### Running time:\n",
    "\n",
    "$T(n)=2T(\\frac{n}{2})+\\Theta (n) = \\Theta (nlg(n))$\n",
    "\n",
    "$\\frac{n}{2}$: size of subproblems"
   ]
  },
  {
   "cell_type": "markdown",
   "metadata": {},
   "source": [
    "## Binary Search\n",
    "\n",
    "(find $x$ in a sorted array)\n",
    "\n",
    "1. Divide: compare $x$ with middle\n",
    "2. Conquer: recurse in one subarray\n",
    "3. Combine: terminal\n",
    "\n",
    "### Running time:\n",
    "\n",
    "$T(n)=1T(\\frac{n}{2})+\\Theta (1) = \\Theta (lg(n))$"
   ]
  },
  {
   "cell_type": "code",
   "execution_count": 11,
   "metadata": {},
   "outputs": [
    {
     "name": "stdout",
     "output_type": "stream",
     "text": [
      "1\n",
      "False\n",
      "2\n",
      "False\n"
     ]
    }
   ],
   "source": [
    "t0 = [1,3,4,5,6,7,10,11,23]\n",
    "t1 = [-1,22,102,201,218,999]\n",
    "\n",
    "def binary_search(array_test, x, start, end):\n",
    "    length = end - start\n",
    "    if length == 0:\n",
    "        return False\n",
    "    elif length == 1:\n",
    "        if array_test[start] == x:\n",
    "            return start\n",
    "        else:\n",
    "            return False\n",
    "    else:\n",
    "        middle = (start+end)//2\n",
    "        if array_test[middle] == x:\n",
    "            return middle\n",
    "        else:\n",
    "            r0 = binary_search(array_test, x, start, middle)\n",
    "            r1 = binary_search(array_test, x, middle+1, end)\n",
    "            if r0 != False:\n",
    "                return r0\n",
    "            if r1 != False:\n",
    "                return r1\n",
    "            return False\n",
    "\n",
    "print(binary_search(t0,3,0,len(t0)))\n",
    "print(binary_search(t0,2,0,len(t0)))\n",
    "print(binary_search(t1,102,0,len(t1)))\n",
    "print(binary_search(t1,76,0,len(t1)))\n",
    "    "
   ]
  },
  {
   "cell_type": "code",
   "execution_count": 14,
   "metadata": {},
   "outputs": [
    {
     "name": "stdout",
     "output_type": "stream",
     "text": [
      "[0, 2, 2, 3, 4, 4, 7, 8, 9, 10, 10, 12, 13, 16, 16, 18, 18, 20, 21, 22, 22, 22, 23, 24, 25, 25, 27, 28, 28, 29, 31, 31, 33, 34, 36, 36, 37, 38, 38, 38, 39, 40, 40, 41, 42, 42, 43, 44, 45, 46, 46, 47, 47, 48, 49, 50, 50, 51, 52, 55, 56, 56, 57, 58, 58, 59, 61, 61, 63, 63, 63, 64, 66, 66, 66, 68, 68, 70, 72, 73, 76, 80, 80, 81, 82, 86, 87, 87, 88, 88, 88, 91, 91, 92, 95, 97, 97, 97, 99, 99]\n",
      "[0, 1, 2, 3, 4, 5, 6, 7, 8, 9, 11, 13, 14, 15, 17, 20, 22, 25, 26, 27, 29, 32, 33, 36, 37, 38, 39, 40, 44, 46, 48, 49, 50, 52, 54, 55, 56, 57, 58, 59, 60, 61, 63, 64, 65, 66, 67, 68, 69, 70, 73, 75, 76, 78, 79, 82, 84, 85, 87, 89, 91, 92, 93, 95, 96, 97, 98]\n"
     ]
    }
   ],
   "source": [
    "#import test mod\n",
    "%run lib/test.py\n",
    "A = test_get_sorted_array()\n",
    "B = test_get_sorted_array_unique()\n",
    "print(A)\n",
    "print(B)"
   ]
  },
  {
   "cell_type": "markdown",
   "metadata": {},
   "source": [
    "## Power a number\n",
    "\n",
    "1.\n"
   ]
  },
  {
   "cell_type": "code",
   "execution_count": null,
   "metadata": {},
   "outputs": [],
   "source": []
  }
 ],
 "metadata": {
  "kernelspec": {
   "display_name": "Python 3",
   "language": "python",
   "name": "python3"
  },
  "language_info": {
   "codemirror_mode": {
    "name": "ipython",
    "version": 3
   },
   "file_extension": ".py",
   "mimetype": "text/x-python",
   "name": "python",
   "nbconvert_exporter": "python",
   "pygments_lexer": "ipython3",
   "version": "3.6.4"
  }
 },
 "nbformat": 4,
 "nbformat_minor": 2
}
