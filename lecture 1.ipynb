{
 "cells": [
  {
   "cell_type": "markdown",
   "metadata": {},
   "source": [
    "# Analysis of Algothrims"
   ]
  },
  {
   "cell_type": "markdown",
   "metadata": {},
   "source": [
    "> The theoretical study of computer program performance and resource usage.\n",
    ">\n",
    "> And a particular focus on **performance**.\n"
   ]
  },
  {
   "cell_type": "markdown",
   "metadata": {},
   "source": [
    "## Problem sorting\n",
    "\n",
    "**Input:** sequence$<a_1,a_2,a_3,...a_n>$ of numbers\n",
    "\n",
    "**Output:** sequence$<a^\\prime_1,a^\\prime_2,a^\\prime_3,...a^\\prime_n>$\n",
    "\n",
    "Such that $a^\\prime_1\\leqq a^\\prime_2\\leqq a^\\prime_3\\leqq...a^\\prime_n$"
   ]
  },
  {
   "cell_type": "code",
   "execution_count": 1,
   "metadata": {},
   "outputs": [
    {
     "name": "stdout",
     "output_type": "stream",
     "text": [
      "[48, 46, 34, 81, 31, 78, 16, 78, 8, 6, 36, 76, 6, 19, 8, 12, 13, 59, 81, 25, 32, 62, 65, 44, 0, 54, 46, 55, 59, 60, 99, 86, 46, 86, 51, 43, 2, 98, 83, 34, 79, 49, 51, 99, 15, 91, 81, 73, 85, 4, 53, 23, 24, 72, 49, 98, 51, 1, 15, 60, 38, 57, 22, 78, 21, 45, 49, 51, 63, 75, 24, 3, 98, 15, 87, 63, 95, 1, 73, 78, 2, 31, 50, 48, 84, 34, 65, 99, 77, 22, 47, 48, 89, 1, 93, 5, 60, 62, 70, 81]\n"
     ]
    }
   ],
   "source": [
    "import random\n",
    "A = []\n",
    "for i in range(100):\n",
    "    A.append(int(random.random()*100))\n",
    "print(A)"
   ]
  },
  {
   "cell_type": "markdown",
   "metadata": {},
   "source": [
    "## Solutions"
   ]
  },
  {
   "cell_type": "markdown",
   "metadata": {},
   "source": [
    "- ### Insertion sort\n",
    "![insertion sort](./imgs/Insertion_sort.gif)\n"
   ]
  },
  {
   "cell_type": "code",
   "execution_count": 2,
   "metadata": {},
   "outputs": [],
   "source": [
    "#insertion sort\n",
    "\n",
    "def insertion_sort(A):\n",
    "    B = A.copy()\n",
    "    for i in range(1,len(B)):\n",
    "        temp = B[i]\n",
    "        for j in range(i-1,-1,-1):\n",
    "            if B[j] > temp:\n",
    "                B[j+1] = B[j]\n",
    "                B[j] = temp\n",
    "            else:\n",
    "                B[j+1] = temp\n",
    "                break\n",
    "    return B\n",
    "\n",
    "#insertion sort\n",
    "\n",
    "def insertion_sort2(A):\n",
    "    B = A.copy()\n",
    "    for i in range(1,len(B)):\n",
    "        temp = B[i]\n",
    "        end = False\n",
    "        for j in range(i-1,-1,-1):\n",
    "            if B[j] > temp:\n",
    "                B[j+1] = B[j]\n",
    "            else:\n",
    "                B[j+1] = temp\n",
    "                end = True\n",
    "                break\n",
    "        if not end:\n",
    "            B[1] = B[0]\n",
    "            B[0] = temp\n",
    "    return B"
   ]
  },
  {
   "cell_type": "code",
   "execution_count": 12,
   "metadata": {},
   "outputs": [],
   "source": [
    "def checkAnswer(correct_answer, test_answer):\n",
    "    if len(correct_answer) != len(test_answer):\n",
    "        return False\n",
    "    for i in range(len(correct_answer)):\n",
    "        if correct_answer[i] != test_answer[i]:\n",
    "            return False\n",
    "    return True\n",
    "\n",
    "def check_in_order(answer):\n",
    "    for i in range(1,len(answer)):\n",
    "        if answer[i-1] > answer[i]:\n",
    "            return False\n",
    "    return True"
   ]
  },
  {
   "cell_type": "markdown",
   "metadata": {},
   "source": [
    "## Kinds of analysis"
   ]
  },
  {
   "cell_type": "markdown",
   "metadata": {},
   "source": [
    "Worst-case(usually)\n",
    "\n",
    "$T(n) = $ max time on any input of size $n$\n",
    "\n",
    "Average-case(sometimes)\n",
    "\n",
    "$T(n) = $ expected time over any input of size $n$\n",
    "\n",
    "Best-case(bogus/useless)\n",
    "\n",
    "\n"
   ]
  },
  {
   "cell_type": "markdown",
   "metadata": {},
   "source": [
    "## What is insertion sort's w-c time?\n",
    "\n",
    "Depends on computer\n",
    "- Relative speed(on same computer)\n",
    "- Absolute speed(on different computers)\n",
    "\n",
    "Big Idea!\n",
    "1. ignore machine dependent\n",
    "2. look at the grownth of the running time"
   ]
  },
  {
   "cell_type": "markdown",
   "metadata": {},
   "source": [
    "## Asymptotic notion\n",
    "\n",
    "$\\Theta$ notion\n",
    "- Drop loworder terms\n",
    "- Ignore leading constants\n",
    "\n",
    "Ex: $3n^3+90n^2-5n+60 = \\Theta(n^3)$\n",
    "\n",
    "As $n\\to\\infty$, a $\\Theta(n^2)$ algothrim always beats a $\\Theta(n^3)$ algothrim."
   ]
  },
  {
   "cell_type": "markdown",
   "metadata": {},
   "source": [
    "- ## Merge Sort\n",
    "![insertion sort](./imgs/Merge-sort-example-300px.gif)\n"
   ]
  },
  {
   "cell_type": "code",
   "execution_count": 8,
   "metadata": {},
   "outputs": [],
   "source": [
    "# merge sort\n",
    "\n",
    "def merge_sort(A):\n",
    "    if len(A) <= 1:\n",
    "        return A\n",
    "    if len(A) == 2:\n",
    "        if A[0] <= A[1]:\n",
    "            return A\n",
    "        else:\n",
    "            return[A[1],A[0]]\n",
    "    \n",
    "    mid_point = len(A)//2\n",
    "    left = merge_sort(A[:mid_point])\n",
    "    right = merge_sort(A[mid_point:])\n",
    "    result = []\n",
    "    lp = 0 # left pointer\n",
    "    rp = 0 # right pointer\n",
    "    ln = len(left)  # length of left numbers\n",
    "    rn = len(right) # length of right numbers\n",
    "    while True:\n",
    "        if lp>=ln and rp >= rn:\n",
    "            return result\n",
    "        elif lp>=ln:\n",
    "            for i in range(rp,rn):\n",
    "                result.append(right[i])\n",
    "            rp = rn\n",
    "        elif rp>=rn:\n",
    "            for i in range(lp,ln):\n",
    "                result.append(left[i])\n",
    "            lp = ln\n",
    "        else:\n",
    "            if left[lp] <= right[rp]:\n",
    "                result.append(left[lp])\n",
    "                lp = lp+1\n",
    "            else:\n",
    "                result.append(right[rp])\n",
    "                rp = rp+1\n",
    "    "
   ]
  },
  {
   "cell_type": "code",
   "execution_count": 15,
   "metadata": {},
   "outputs": [
    {
     "name": "stdout",
     "output_type": "stream",
     "text": [
      "[0, 1, 1, 1, 2, 2, 3, 4, 5, 6, 6, 8, 8, 12, 13, 15, 15, 15, 16, 19, 21, 22, 22, 23, 24, 24, 25, 31, 31, 32, 34, 34, 34, 36, 38, 43, 44, 45, 46, 46, 46, 47, 48, 48, 48, 49, 49, 49, 50, 51, 51, 51, 51, 53, 54, 55, 57, 59, 59, 60, 60, 60, 62, 62, 63, 63, 65, 65, 70, 72, 73, 73, 75, 76, 77, 78, 78, 78, 78, 79, 81, 81, 81, 81, 83, 84, 85, 86, 86, 87, 89, 91, 93, 95, 98, 98, 98, 99, 99, 99]\n",
      "[0, 1, 1, 1, 2, 2, 3, 4, 5, 6, 6, 8, 8, 12, 13, 15, 15, 15, 16, 19, 21, 22, 22, 23, 24, 24, 25, 31, 31, 32, 34, 34, 34, 36, 38, 43, 44, 45, 46, 46, 46, 47, 48, 48, 48, 49, 49, 49, 50, 51, 51, 51, 51, 53, 54, 55, 57, 59, 59, 60, 60, 60, 62, 62, 63, 63, 65, 65, 70, 72, 73, 73, 75, 76, 77, 78, 78, 78, 78, 79, 81, 81, 81, 81, 83, 84, 85, 86, 86, 87, 89, 91, 93, 95, 98, 98, 98, 99, 99, 99]\n",
      "[48, 46, 34, 81, 31, 78, 16, 78, 8, 6, 36, 76, 6, 19, 8, 12, 13, 59, 81, 25, 32, 62, 65, 44, 0, 54, 46, 55, 59, 60, 99, 86, 46, 86, 51, 43, 2, 98, 83, 34, 79, 49, 51, 99, 15, 91, 81, 73, 85, 4, 53, 23, 24, 72, 49, 98, 51, 1, 15, 60, 38, 57, 22, 78, 21, 45, 49, 51, 63, 75, 24, 3, 98, 15, 87, 63, 95, 1, 73, 78, 2, 31, 50, 48, 84, 34, 65, 99, 77, 22, 47, 48, 89, 1, 93, 5, 60, 62, 70, 81]\n"
     ]
    }
   ],
   "source": [
    "aa = insertion_sort2(A)\n",
    "ab = merge_sort(A)\n",
    "checkAnswer(aa,ab)\n",
    "print(aa)\n",
    "print(ab)\n",
    "print(A)"
   ]
  }
 ],
 "metadata": {
  "kernelspec": {
   "display_name": "Python 3",
   "language": "python",
   "name": "python3"
  },
  "language_info": {
   "codemirror_mode": {
    "name": "ipython",
    "version": 3
   },
   "file_extension": ".py",
   "mimetype": "text/x-python",
   "name": "python",
   "nbconvert_exporter": "python",
   "pygments_lexer": "ipython3",
   "version": "3.6.4"
  }
 },
 "nbformat": 4,
 "nbformat_minor": 2
}
