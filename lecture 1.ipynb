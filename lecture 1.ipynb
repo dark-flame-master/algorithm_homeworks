{
 "cells": [
  {
   "cell_type": "markdown",
   "metadata": {},
   "source": [
    "# Analysis of Algothrims"
   ]
  },
  {
   "cell_type": "markdown",
   "metadata": {},
   "source": [
    "> The theoretical study of computer program performance and resource usage.\n",
    ">\n",
    "> And a particular focus on **performance**.\n"
   ]
  },
  {
   "cell_type": "markdown",
   "metadata": {},
   "source": [
    "## Problem sorting\n",
    "\n",
    "**Input:** sequence$<a_1,a_2,a_3,...a_n>$ of numbers\n",
    "\n",
    "**Output:** sequence$<a^\\prime_1,a^\\prime_2,a^\\prime_3,...a^\\prime_n>$\n",
    "\n",
    "Such that $a^\\prime_1\\leqq a^\\prime_2\\leqq a^\\prime_3\\leqq...a^\\prime_n$"
   ]
  },
  {
   "cell_type": "code",
   "execution_count": null,
   "metadata": {},
   "outputs": [],
   "source": [
    "import random\n",
    "A = []\n",
    "for i in range(100):\n",
    "    A.append(int(random.random()*100))\n",
    "print(A)"
   ]
  },
  {
   "cell_type": "markdown",
   "metadata": {},
   "source": [
    "## Solutions"
   ]
  },
  {
   "cell_type": "markdown",
   "metadata": {},
   "source": [
    "- ### Insertion sort\n",
    "![insertion sort](./imgs/Insertion_sort.gif)\n"
   ]
  },
  {
   "cell_type": "code",
   "execution_count": null,
   "metadata": {},
   "outputs": [],
   "source": [
    "#insertion sort\n",
    "\n",
    "def insertion_sort(A):\n",
    "    B = A.copy()\n",
    "    for i in range(1,len(B)):\n",
    "        temp = B[i]\n",
    "        for j in range(i-1,-1,-1):\n",
    "            if B[j] > temp:\n",
    "                B[j+1] = B[j]\n",
    "                B[j] = temp\n",
    "            else:\n",
    "                B[j+1] = temp\n",
    "                break\n",
    "    return B\n",
    "\n",
    "#insertion sort\n",
    "\n",
    "def insertion_sort2(A):\n",
    "    B = A.copy()\n",
    "    for i in range(1,len(B)):\n",
    "        temp = B[i]\n",
    "        end = False\n",
    "        for j in range(i-1,-1,-1):\n",
    "            if B[j] > temp:\n",
    "                B[j+1] = B[j]\n",
    "            else:\n",
    "                B[j+1] = temp\n",
    "                end = True\n",
    "                break\n",
    "        if not end:\n",
    "            B[1] = B[0]\n",
    "            B[0] = temp\n",
    "    return B"
   ]
  },
  {
   "cell_type": "code",
   "execution_count": null,
   "metadata": {},
   "outputs": [],
   "source": [
    "print(A)\n",
    "print(insertion_sort(A))\n",
    "print(insertion_sort2(A))"
   ]
  },
  {
   "cell_type": "code",
   "execution_count": null,
   "metadata": {},
   "outputs": [],
   "source": [
    "def checkAnswer(correct_answer, test_answer):\n",
    "    if len(correct_answer) != len(test_answer):\n",
    "        return False\n",
    "    for i in range(len(correct_answer)):\n",
    "        if correct_answer[i] != test_answer[i]:\n",
    "            return False\n",
    "    return True\n",
    "\n",
    "aa = insertion_sort(A)\n",
    "bb = insertion_sort2(A)\n",
    "checkAnswer(aa,bb)"
   ]
  },
  {
   "cell_type": "code",
   "execution_count": null,
   "metadata": {},
   "outputs": [],
   "source": [
    "def check_in_order(answer):\n",
    "    for i in range(1,len(answer)):\n",
    "        if answer[i-1] > answer[i]:\n",
    "            return False\n",
    "    return True\n",
    "\n",
    "print(check_in_order(A))\n",
    "print(check_in_order(aa))"
   ]
  },
  {
   "cell_type": "code",
   "execution_count": null,
   "metadata": {},
   "outputs": [],
   "source": [
    "def swipe_random(B):\n",
    "    left = int(random.random()*len(B))\n",
    "    right = int(random.random()*len(B))\n",
    "    B[left],B[right] = B[right],B[left]"
   ]
  },
  {
   "cell_type": "code",
   "execution_count": null,
   "metadata": {},
   "outputs": [],
   "source": [
    "def random_sort(A):\n",
    "    B = A.copy()\n",
    "    time = 0\n",
    "    while time<10000000000:\n",
    "        time = time+1\n",
    "        if check_in_order(B):\n",
    "            return time\n",
    "        else:\n",
    "            swipe_random(B)"
   ]
  },
  {
   "cell_type": "code",
   "execution_count": null,
   "metadata": {},
   "outputs": [],
   "source": [
    "def factorial(n):\n",
    "    result = 1\n",
    "    for i in range(1,n+1):\n",
    "        result *=i\n",
    "    return result\n",
    "factorial(6)"
   ]
  },
  {
   "cell_type": "code",
   "execution_count": null,
   "metadata": {},
   "outputs": [],
   "source": [
    "total_time = 0\n",
    "for i in range(1000):\n",
    "    t = random_sort(A[:6])\n",
    "    total_time += t\n",
    "print(total_time/1000)"
   ]
  },
  {
   "cell_type": "markdown",
   "metadata": {},
   "source": [
    "## Kinds of analysis"
   ]
  },
  {
   "cell_type": "markdown",
   "metadata": {},
   "source": [
    "Worst-case(usually)\n",
    "\n",
    "$T(n) = $ max time on any input of size $n$\n",
    "\n",
    "Average-case(sometimes)\n",
    "\n",
    "$T(n) = $ expected time over any input of size $n$\n",
    "\n",
    "Best-case(bogus/useless)\n",
    "\n",
    "\n"
   ]
  },
  {
   "cell_type": "markdown",
   "metadata": {},
   "source": [
    "## What is insertion sort's w-c time?\n",
    "\n",
    "Depends on computer\n",
    "- Relative speed(on same computer)\n",
    "- Absolute speed(on different computers)\n",
    "\n",
    "Big Idea!\n",
    "1. ignore machine dependent\n",
    "2. look at the grownth of the running time"
   ]
  },
  {
   "cell_type": "markdown",
   "metadata": {},
   "source": [
    "## Asymptotic notion\n",
    "\n",
    "$\\Theta$ notion\n",
    "- Drop loworder terms\n",
    "- Ignore leading constants\n",
    "\n",
    "Ex: $3n^3+90n^2-5n+60 = \\Theta(n^3)$\n",
    "\n",
    "As $n\\to\\infty$, a $\\Theta(n^2)$ algothrim always beats a $\\Theta(n^3)$ algothrim."
   ]
  },
  {
   "cell_type": "markdown",
   "metadata": {},
   "source": [
    "- ## Merge Sort\n",
    "![insertion sort](./imgs/Merge-sort-example-300px.gif)\n"
   ]
  },
  {
   "cell_type": "code",
   "execution_count": null,
   "metadata": {},
   "outputs": [],
   "source": []
  }
 ],
 "metadata": {
  "kernelspec": {
   "display_name": "Python 3",
   "language": "python",
   "name": "python3"
  },
  "language_info": {
   "codemirror_mode": {
    "name": "ipython",
    "version": 3
   },
   "file_extension": ".py",
   "mimetype": "text/x-python",
   "name": "python",
   "nbconvert_exporter": "python",
   "pygments_lexer": "ipython3",
   "version": "3.7.0"
  }
 },
 "nbformat": 4,
 "nbformat_minor": 2
}
