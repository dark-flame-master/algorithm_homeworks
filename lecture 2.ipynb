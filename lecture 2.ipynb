{
 "cells": [
  {
   "cell_type": "markdown",
   "metadata": {},
   "source": [
    "## Asymptotic notation\n",
    "\n",
    "$f(n)=O(g(n))$\n",
    "\n",
    "means that there are some consts $C>0,n_0>0$ \n",
    "\n",
    "such that $0\\leq f(n)\\leq C\\cdot g(n)$ for all $n\\geq n_0$"
   ]
  },
  {
   "cell_type": "markdown",
   "metadata": {},
   "source": [
    "## Set defination\n",
    "\n",
    "$O(g(n))=$ { $f(n)$ : there are some consts $C>0,n_0>0$ \n",
    "\n",
    "such that  $0\\leq f(n)\\leq C\\cdot g(n)$ for all $n\\geq n_0$ }\n",
    "\n",
    "\n",
    "*Ex:*$2n^2=O(n^3)\\to f(n) = 2n^2 \\in O(n^3)$"
   ]
  },
  {
   "cell_type": "markdown",
   "metadata": {},
   "source": [
    "## Macros convention\n",
    "\n",
    "A set in a formula represents an anonymous macros convention function in that set\n",
    "\n",
    "*Ex:* $f(n)=n^3+O(n^2)$\n",
    "\n",
    "means there is a function $h(n)<O(n^2)$ such that $f(n)=n^3+h(n)$"
   ]
  },
  {
   "cell_type": "markdown",
   "metadata": {},
   "source": [
    "## Solving recurrences\n",
    "\n",
    "### substitution method\n",
    "1. Guess the form of the solution\n",
    "2. Verify bu induction\n",
    "3. Solve the consts"
   ]
  },
  {
   "cell_type": "code",
   "execution_count": null,
   "metadata": {},
   "outputs": [],
   "source": []
  }
 ],
 "metadata": {
  "kernelspec": {
   "display_name": "Python 3",
   "language": "python",
   "name": "python3"
  },
  "language_info": {
   "codemirror_mode": {
    "name": "ipython",
    "version": 3
   },
   "file_extension": ".py",
   "mimetype": "text/x-python",
   "name": "python",
   "nbconvert_exporter": "python",
   "pygments_lexer": "ipython3",
   "version": "3.6.4"
  }
 },
 "nbformat": 4,
 "nbformat_minor": 2
}
