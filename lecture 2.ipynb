{
 "cells": [
  {
   "cell_type": "markdown",
   "metadata": {},
   "source": [
    "## Asymptotic notation\n",
    "\n",
    "$f(n)=O(g(n))$\n",
    "\n",
    "means that there are some consts $C>0,n_0>0$ \n",
    "\n",
    "such that $0\\leq f(n)\\leq C\\cdot g(n)$ for all $n\\geq n_0$"
   ]
  },
  {
   "cell_type": "markdown",
   "metadata": {},
   "source": [
    "## Set defination\n",
    "\n",
    "$O(g(n))=$ { $f(n)$ : there are some consts $C>0,n_0>0$ \n",
    "\n",
    "such that  $0\\leq f(n)\\leq C\\cdot g(n)$ for all $n\\geq n_0$ }\n",
    "\n",
    "\n",
    "Ex $2n^2=O(n^3)\\to f(n) = 2n^2 \\in O(n^3)$"
   ]
  },
  {
   "cell_type": "markdown",
   "metadata": {},
   "source": []
  }
 ],
 "metadata": {
  "kernelspec": {
   "display_name": "Python 3",
   "language": "python",
   "name": "python3"
  },
  "language_info": {
   "codemirror_mode": {
    "name": "ipython",
    "version": 3
   },
   "file_extension": ".py",
   "mimetype": "text/x-python",
   "name": "python",
   "nbconvert_exporter": "python",
   "pygments_lexer": "ipython3",
   "version": "3.6.4"
  }
 },
 "nbformat": 4,
 "nbformat_minor": 2
}
